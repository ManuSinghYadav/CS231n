{
  "nbformat": 4,
  "nbformat_minor": 0,
  "metadata": {
    "colab": {
      "provenance": [],
      "authorship_tag": "ABX9TyOcDhYir+2xZYPYnbDBD2Ww",
      "include_colab_link": true
    },
    "kernelspec": {
      "name": "python3",
      "display_name": "Python 3"
    },
    "language_info": {
      "name": "python"
    }
  },
  "cells": [
    {
      "cell_type": "markdown",
      "metadata": {
        "id": "view-in-github",
        "colab_type": "text"
      },
      "source": [
        "<a href=\"https://colab.research.google.com/github/ManuSinghYadav/CS231n/blob/main/Lecture%201%20-%20Implementing%20nearest%20neighbors%20on%20CIFAR-10.ipynb\" target=\"_parent\"><img src=\"https://colab.research.google.com/assets/colab-badge.svg\" alt=\"Open In Colab\"/></a>"
      ]
    },
    {
      "cell_type": "code",
      "execution_count": null,
      "metadata": {
        "colab": {
          "base_uri": "https://localhost:8080/"
        },
        "id": "1uKup54GUfn7",
        "outputId": "abdc6717-a27c-4366-9dbe-1f9e94295f91"
      },
      "outputs": [
        {
          "output_type": "stream",
          "name": "stdout",
          "text": [
            "Downloading data from https://www.cs.toronto.edu/~kriz/cifar-10-python.tar.gz\n",
            "\u001b[1m170498071/170498071\u001b[0m \u001b[32m━━━━━━━━━━━━━━━━━━━━\u001b[0m\u001b[37m\u001b[0m \u001b[1m3s\u001b[0m 0us/step\n"
          ]
        }
      ],
      "source": [
        "import tensorflow as tf\n",
        "import torch\n",
        "import matplotlib.pyplot as plt\n",
        "\n",
        "(train_images, train_labels), (test_images, test_labels) = tf.keras.datasets.cifar10.load_data()"
      ]
    },
    {
      "cell_type": "code",
      "source": [
        "Xtr, Ytr = torch.tensor(train_images, dtype=torch.int8), torch.tensor(train_labels, dtype=torch.int8)\n",
        "Xte, Yte = torch.tensor(test_images, dtype=torch.int8), torch.tensor(test_labels, dtype=torch.int8)"
      ],
      "metadata": {
        "id": "pEvI5yGGW8hE"
      },
      "execution_count": 219,
      "outputs": []
    },
    {
      "cell_type": "code",
      "source": [
        "Xtr = Xtr.reshape(50000, -1)\n",
        "Xte = Xte.reshape(10000, -1)"
      ],
      "metadata": {
        "id": "ZHzci9AgecSC"
      },
      "execution_count": 220,
      "outputs": []
    },
    {
      "cell_type": "markdown",
      "source": [
        "### Implementing Nearest Neighbors\n",
        "Find the nearest image (used L1 or Manhatten distance)"
      ],
      "metadata": {
        "id": "Gngt-8hdyYSI"
      }
    },
    {
      "cell_type": "code",
      "source": [
        "class NearestNeighbor:\n",
        "  def __init__(self, idx):\n",
        "    self.idx = idx\n",
        "\n",
        "  def nearest_image(self):\n",
        "    l1 = abs(Xte[self.idx] - Xtr).sum(1)\n",
        "    arg_min_image = torch.argmin(l1)\n",
        "\n",
        "    # Showing Images\n",
        "    fig, axes = plt.subplots(1, 2)\n",
        "    axes[0].imshow(test_images[self.idx])\n",
        "    axes[0].set_title('Original Image')\n",
        "    axes[1].imshow(train_images[arg_min_image])\n",
        "    axes[1].set_title('Nearest Image')\n",
        "    plt.tight_layout()\n",
        "    plt.show()\n",
        "\n",
        "    return Yte[self.idx].item(), Ytr[arg_min_image].item()\n",
        "\n",
        "  def accuracy(self):\n",
        "    c = 0\n",
        "    for i in range(len(Xte)):\n",
        "      l1 = abs(Xte[i] - Xtr).sum(1)\n",
        "      arg_min_image = torch.argmin(l1)\n",
        "      if Yte[i].item() == Ytr[arg_min_image].item():\n",
        "        c += 1\n",
        "    return f\"Accuracy is {(c / len(Xte)) * 100}\""
      ],
      "metadata": {
        "id": "5Zz0XCIPmEb-"
      },
      "execution_count": 378,
      "outputs": []
    },
    {
      "cell_type": "code",
      "source": [
        "a = NearestNeighbor(5)\n",
        "l1 = a.nearest_image()\n",
        "l1"
      ],
      "metadata": {
        "colab": {
          "base_uri": "https://localhost:8080/",
          "height": 372
        },
        "id": "QDJkfv7lmYhy",
        "outputId": "f02454cd-a42a-456a-a151-28e6e341c6d8"
      },
      "execution_count": 379,
      "outputs": [
        {
          "output_type": "display_data",
          "data": {
            "text/plain": [
              "<Figure size 640x480 with 2 Axes>"
            ],
            "image/png": "[encoded data removed]"
          },
          "metadata": {}
        },
        {
          "output_type": "execute_result",
          "data": {
            "text/plain": [
              "(6, 6)"
            ]
          },
          "metadata": {},
          "execution_count": 379
        }
      ]
    },
    {
      "cell_type": "code",
      "source": [
        "a.accuracy()"
      ],
      "metadata": {
        "id": "B3BX0yBJ0dFt"
      },
      "execution_count": null,
      "outputs": []
    }
  ]
}